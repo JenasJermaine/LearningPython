{
 "cells": [
  {
   "cell_type": "code",
   "execution_count": 1,
   "id": "1362ef01-a815-4e86-b82a-78f8530e5e27",
   "metadata": {},
   "outputs": [],
   "source": [
    "class Sample():\n",
    "    pass"
   ]
  },
  {
   "cell_type": "code",
   "execution_count": 2,
   "id": "23b72bed-1cfa-4c9e-80b5-79929a227b08",
   "metadata": {},
   "outputs": [],
   "source": [
    "my_sample = Sample()"
   ]
  },
  {
   "cell_type": "code",
   "execution_count": 3,
   "id": "424c6686-ffa6-4bee-8d95-e5944db55310",
   "metadata": {},
   "outputs": [
    {
     "data": {
      "text/plain": [
       "__main__.Sample"
      ]
     },
     "execution_count": 3,
     "metadata": {},
     "output_type": "execute_result"
    }
   ],
   "source": [
    "type(my_sample)"
   ]
  },
  {
   "cell_type": "code",
   "execution_count": 24,
   "id": "bce96601-bfa1-4225-88ab-648b387d4ee3",
   "metadata": {},
   "outputs": [],
   "source": [
    "class Dog():\n",
    "    def __init__(self, breed):\n",
    "        self.breed= breed"
   ]
  },
  {
   "cell_type": "code",
   "execution_count": 25,
   "id": "0e5659d5-52e1-47db-8849-12bdfa773fc0",
   "metadata": {},
   "outputs": [],
   "source": [
    "class Dog2():\n",
    "    def __init__(self, mybreed):\n",
    "        self.breed= mybreed #stillworks\n",
    "        "
   ]
  },
  {
   "cell_type": "code",
   "execution_count": 26,
   "id": "975e3895-5aef-4d89-9005-cf08099bcb8b",
   "metadata": {},
   "outputs": [],
   "source": [
    "my_dog = Dog(breed='Lab')"
   ]
  },
  {
   "cell_type": "code",
   "execution_count": 27,
   "id": "16277b3c-73c6-4893-82b9-baffce387f75",
   "metadata": {},
   "outputs": [],
   "source": [
    "my_dog2 = Dog2(mybreed='Huskie')"
   ]
  },
  {
   "cell_type": "code",
   "execution_count": 28,
   "id": "9bbc5026-ecc1-404f-aed9-0087b3e591c5",
   "metadata": {},
   "outputs": [
    {
     "data": {
      "text/plain": [
       "'Lab'"
      ]
     },
     "execution_count": 28,
     "metadata": {},
     "output_type": "execute_result"
    }
   ],
   "source": [
    "my_dog.breed"
   ]
  },
  {
   "cell_type": "code",
   "execution_count": 29,
   "id": "b6106ada-d9c7-4f3d-b2d3-110d7724bf57",
   "metadata": {},
   "outputs": [
    {
     "data": {
      "text/plain": [
       "'Huskie'"
      ]
     },
     "execution_count": 29,
     "metadata": {},
     "output_type": "execute_result"
    }
   ],
   "source": [
    "my_dog2.breed"
   ]
  },
  {
   "cell_type": "code",
   "execution_count": 32,
   "id": "0b96d0ba-0423-48d7-9fcb-69d7dcebeefd",
   "metadata": {},
   "outputs": [],
   "source": [
    "class Dog3():\n",
    "    def __init__(self, breed, name, spots):\n",
    "        self.breed= breed\n",
    "        self.name = name\n",
    "        self.spots= spots #Expect boolean True/False"
   ]
  },
  {
   "cell_type": "code",
   "execution_count": 38,
   "id": "6269d378-1f86-49c5-8d42-49715da9a78c",
   "metadata": {},
   "outputs": [],
   "source": [
    "my_dog3= Dog3('lab', 'Sammy', False)"
   ]
  },
  {
   "cell_type": "code",
   "execution_count": 39,
   "id": "90c8ed8f-b9dd-4cfa-8407-6ace9cdf12ae",
   "metadata": {},
   "outputs": [
    {
     "name": "stdout",
     "output_type": "stream",
     "text": [
      "lab\n"
     ]
    }
   ],
   "source": [
    "print(my_dog3.breed)"
   ]
  },
  {
   "cell_type": "code",
   "execution_count": 40,
   "id": "3559e1c4-e489-4edc-a6e2-8549d8ad14ea",
   "metadata": {},
   "outputs": [
    {
     "name": "stdout",
     "output_type": "stream",
     "text": [
      "Sammy\n"
     ]
    }
   ],
   "source": [
    "print(my_dog3.name)"
   ]
  },
  {
   "cell_type": "code",
   "execution_count": 41,
   "id": "f10f4325-e38a-4dbb-bb0d-e3a8b480d855",
   "metadata": {},
   "outputs": [
    {
     "name": "stdout",
     "output_type": "stream",
     "text": [
      "False\n"
     ]
    }
   ],
   "source": [
    "print(my_dog3.spots)"
   ]
  },
  {
   "cell_type": "code",
   "execution_count": 42,
   "id": "85a02daa-0e6c-4e4c-93ab-0b387b3c6983",
   "metadata": {},
   "outputs": [],
   "source": [
    "class Dog4():\n",
    "    species = 'mammal'\n",
    "    \n",
    "    def __init__(self, breed, name, spots):\n",
    "        self.breed= breed\n",
    "        self.name = name\n",
    "        self.spots= spots"
   ]
  },
  {
   "cell_type": "code",
   "execution_count": 43,
   "id": "226b6ab7-5134-4ec0-bd59-d6c0ba5545c0",
   "metadata": {},
   "outputs": [],
   "source": [
    "my_dog4= Dog4('lab', 'Sammy', False)"
   ]
  },
  {
   "cell_type": "code",
   "execution_count": 44,
   "id": "ef930a7e-effd-4181-a0c0-da7ee4519554",
   "metadata": {},
   "outputs": [
    {
     "data": {
      "text/plain": [
       "'mammal'"
      ]
     },
     "execution_count": 44,
     "metadata": {},
     "output_type": "execute_result"
    }
   ],
   "source": [
    "my_dog4.species"
   ]
  },
  {
   "cell_type": "code",
   "execution_count": 57,
   "id": "5c247577-bef4-453c-a96b-689c178cee79",
   "metadata": {},
   "outputs": [],
   "source": [
    "class Dog5():\n",
    "    species = 'mammal'\n",
    "    \n",
    "    def __init__(self, breed, name):\n",
    "        self.breed= breed\n",
    "        self.name = name\n",
    "\n",
    "    def bark(self,number):\n",
    "        print('WOOF! My name is {} and the number is {}'.format(self.name, number))"
   ]
  },
  {
   "cell_type": "code",
   "execution_count": 58,
   "id": "17ff9914-8875-4212-a405-bac690fc34e4",
   "metadata": {},
   "outputs": [],
   "source": [
    "Sam= Dog5('lab', 'Sammy')"
   ]
  },
  {
   "cell_type": "code",
   "execution_count": 59,
   "id": "96a3dc4c-4ad2-45b5-b440-7fa8c08d7579",
   "metadata": {},
   "outputs": [
    {
     "name": "stdout",
     "output_type": "stream",
     "text": [
      "WOOF! My name is Sammy and the number is 20\n"
     ]
    }
   ],
   "source": [
    "Sam.bark(20)"
   ]
  },
  {
   "cell_type": "code",
   "execution_count": 76,
   "id": "8ffc660e-7c65-431f-82d7-207e6d3b9ea6",
   "metadata": {},
   "outputs": [],
   "source": [
    "class Circle():\n",
    "    pi = 3.14\n",
    "\n",
    "    def __init__(self,radius=1):\n",
    "        self.radius = radius\n",
    "        self.area = radius*radius*Circle.pi\n",
    "\n",
    "    def get_circumference(self):\n",
    "        return self.radius * self.pi * 2"
   ]
  },
  {
   "cell_type": "code",
   "execution_count": 77,
   "id": "be1639d3-676f-4254-a040-6b7338862479",
   "metadata": {},
   "outputs": [],
   "source": [
    "my_circle= Circle(30)"
   ]
  },
  {
   "cell_type": "code",
   "execution_count": 78,
   "id": "8b8b6609-e3a3-4a40-b3ad-c088df44a275",
   "metadata": {},
   "outputs": [
    {
     "data": {
      "text/plain": [
       "2826.0"
      ]
     },
     "execution_count": 78,
     "metadata": {},
     "output_type": "execute_result"
    }
   ],
   "source": [
    "my_circle.area"
   ]
  },
  {
   "cell_type": "code",
   "execution_count": 70,
   "id": "53ee9098-d4b7-4b31-a781-d64eec39ae22",
   "metadata": {},
   "outputs": [
    {
     "data": {
      "text/plain": [
       "188.4"
      ]
     },
     "execution_count": 70,
     "metadata": {},
     "output_type": "execute_result"
    }
   ],
   "source": [
    "my_circle.get_circumference()"
   ]
  },
  {
   "cell_type": "code",
   "execution_count": null,
   "id": "09644ad3-553e-4e09-ae20-6ded3deb1aca",
   "metadata": {},
   "outputs": [],
   "source": []
  }
 ],
 "metadata": {
  "kernelspec": {
   "display_name": "Python 3 (ipykernel)",
   "language": "python",
   "name": "python3"
  },
  "language_info": {
   "codemirror_mode": {
    "name": "ipython",
    "version": 3
   },
   "file_extension": ".py",
   "mimetype": "text/x-python",
   "name": "python",
   "nbconvert_exporter": "python",
   "pygments_lexer": "ipython3",
   "version": "3.12.7"
  }
 },
 "nbformat": 4,
 "nbformat_minor": 5
}
