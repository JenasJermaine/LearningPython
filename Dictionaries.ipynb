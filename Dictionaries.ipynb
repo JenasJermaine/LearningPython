{
 "cells": [
  {
   "cell_type": "code",
   "execution_count": 2,
   "id": "01554717-8511-4268-a680-d7b4eca1ca83",
   "metadata": {},
   "outputs": [],
   "source": [
    "my_dict={\"key1\":\"val1\",\"key2\":\"val2\"}"
   ]
  },
  {
   "cell_type": "code",
   "execution_count": 3,
   "id": "3487e521-ad65-4d6c-aeb4-39943a92c003",
   "metadata": {},
   "outputs": [
    {
     "data": {
      "text/plain": [
       "{'key1': 'val1', 'key2': 'val2'}"
      ]
     },
     "execution_count": 3,
     "metadata": {},
     "output_type": "execute_result"
    }
   ],
   "source": [
    "my_dict"
   ]
  },
  {
   "cell_type": "code",
   "execution_count": 4,
   "id": "1c316fe3-97bf-4ede-ac6e-54f5c1b9317a",
   "metadata": {},
   "outputs": [
    {
     "data": {
      "text/plain": [
       "'val1'"
      ]
     },
     "execution_count": 4,
     "metadata": {},
     "output_type": "execute_result"
    }
   ],
   "source": [
    "my_dict[\"key1\"]"
   ]
  },
  {
   "cell_type": "code",
   "execution_count": 5,
   "id": "8d96928e-0aeb-446d-af14-c5df39c423bb",
   "metadata": {},
   "outputs": [],
   "source": [
    "prices_lookup={\"apple\":2.99,\"oranges\":1.99,\"milk\":5.80}"
   ]
  },
  {
   "cell_type": "code",
   "execution_count": 7,
   "id": "333eecfe-1f0a-4133-96c0-757229766644",
   "metadata": {},
   "outputs": [
    {
     "data": {
      "text/plain": [
       "2.99"
      ]
     },
     "execution_count": 7,
     "metadata": {},
     "output_type": "execute_result"
    }
   ],
   "source": [
    "prices_lookup[\"apple\"]"
   ]
  },
  {
   "cell_type": "code",
   "execution_count": 9,
   "id": "884dcbc1-20df-421c-819d-553a961bb7a6",
   "metadata": {},
   "outputs": [],
   "source": [
    "d={\"k1\":123,\"k2\":[0,1,2],\"k3\":{\"insideKey\":100}}"
   ]
  },
  {
   "cell_type": "code",
   "execution_count": 13,
   "id": "ff6a4bd3-6f5f-4719-a487-94e8bc7382e5",
   "metadata": {},
   "outputs": [
    {
     "data": {
      "text/plain": [
       "1"
      ]
     },
     "execution_count": 13,
     "metadata": {},
     "output_type": "execute_result"
    }
   ],
   "source": [
    "d[\"k2\"][1]"
   ]
  },
  {
   "cell_type": "code",
   "execution_count": 12,
   "id": "c7afbc69-edf2-4205-a44a-8265c78f6a25",
   "metadata": {},
   "outputs": [
    {
     "data": {
      "text/plain": [
       "100"
      ]
     },
     "execution_count": 12,
     "metadata": {},
     "output_type": "execute_result"
    }
   ],
   "source": [
    "d[\"k3\"][\"insideKey\"]"
   ]
  },
  {
   "cell_type": "code",
   "execution_count": 14,
   "id": "a035e726-a0df-4607-a596-ca0f6ca76920",
   "metadata": {},
   "outputs": [],
   "source": [
    "d={\"key1\":['a','b','c']}"
   ]
  },
  {
   "cell_type": "code",
   "execution_count": 15,
   "id": "f0d88374-19d6-4fbc-a1be-4af9f0484356",
   "metadata": {},
   "outputs": [
    {
     "data": {
      "text/plain": [
       "{'key1': ['a', 'b', 'c']}"
      ]
     },
     "execution_count": 15,
     "metadata": {},
     "output_type": "execute_result"
    }
   ],
   "source": [
    "d"
   ]
  },
  {
   "cell_type": "code",
   "execution_count": 17,
   "id": "3a9dbcd7-34cd-45ef-8191-e85b7df87b17",
   "metadata": {},
   "outputs": [
    {
     "data": {
      "text/plain": [
       "'C'"
      ]
     },
     "execution_count": 17,
     "metadata": {},
     "output_type": "execute_result"
    }
   ],
   "source": [
    "d['key1'][2].upper()"
   ]
  },
  {
   "cell_type": "code",
   "execution_count": 18,
   "id": "3e7f68db-9913-4559-abf5-40fb99729c1a",
   "metadata": {},
   "outputs": [],
   "source": [
    "d={'k1':100,'k2':200}"
   ]
  },
  {
   "cell_type": "code",
   "execution_count": 19,
   "id": "817bf7e6-219e-48ba-b8fc-421ac3ec155a",
   "metadata": {},
   "outputs": [
    {
     "data": {
      "text/plain": [
       "{'k1': 100, 'k2': 200}"
      ]
     },
     "execution_count": 19,
     "metadata": {},
     "output_type": "execute_result"
    }
   ],
   "source": [
    "d"
   ]
  },
  {
   "cell_type": "code",
   "execution_count": 22,
   "id": "104f5de9-5b38-4310-93f5-28a45286993d",
   "metadata": {},
   "outputs": [],
   "source": [
    "d['k3']=300"
   ]
  },
  {
   "cell_type": "code",
   "execution_count": 23,
   "id": "10250479-f168-4685-8ac2-7024f5c0a6e7",
   "metadata": {},
   "outputs": [
    {
     "data": {
      "text/plain": [
       "{'k1': 100, 'k2': 200, 'k3': 300}"
      ]
     },
     "execution_count": 23,
     "metadata": {},
     "output_type": "execute_result"
    }
   ],
   "source": [
    "d"
   ]
  },
  {
   "cell_type": "code",
   "execution_count": 24,
   "id": "e62c7c9b-e489-415b-8f6b-29f33e518cfc",
   "metadata": {},
   "outputs": [],
   "source": [
    "d['k1']='New Value'"
   ]
  },
  {
   "cell_type": "code",
   "execution_count": 25,
   "id": "4e69b175-1316-482e-a240-68c61863e3ac",
   "metadata": {},
   "outputs": [
    {
     "data": {
      "text/plain": [
       "{'k1': 'New Value', 'k2': 200, 'k3': 300}"
      ]
     },
     "execution_count": 25,
     "metadata": {},
     "output_type": "execute_result"
    }
   ],
   "source": [
    "d"
   ]
  },
  {
   "cell_type": "code",
   "execution_count": 26,
   "id": "23fa5273-225e-4805-8a9a-8da40f041c98",
   "metadata": {},
   "outputs": [],
   "source": [
    "d={'k1': 100, 'k2': 200, 'k3': 300}"
   ]
  },
  {
   "cell_type": "code",
   "execution_count": 27,
   "id": "238bede4-d996-4f2a-b020-de90743e393e",
   "metadata": {},
   "outputs": [
    {
     "data": {
      "text/plain": [
       "dict_keys(['k1', 'k2', 'k3'])"
      ]
     },
     "execution_count": 27,
     "metadata": {},
     "output_type": "execute_result"
    }
   ],
   "source": [
    "d.keys()"
   ]
  },
  {
   "cell_type": "code",
   "execution_count": 28,
   "id": "ba697fd9-ea36-42b6-a06a-78adf40f1e4f",
   "metadata": {},
   "outputs": [
    {
     "data": {
      "text/plain": [
       "dict_values([100, 200, 300])"
      ]
     },
     "execution_count": 28,
     "metadata": {},
     "output_type": "execute_result"
    }
   ],
   "source": [
    "d.values()"
   ]
  },
  {
   "cell_type": "code",
   "execution_count": 29,
   "id": "23b5c197-a2f3-44de-8f64-f3b10870a104",
   "metadata": {},
   "outputs": [
    {
     "data": {
      "text/plain": [
       "dict_items([('k1', 100), ('k2', 200), ('k3', 300)])"
      ]
     },
     "execution_count": 29,
     "metadata": {},
     "output_type": "execute_result"
    }
   ],
   "source": [
    "d.items()"
   ]
  },
  {
   "cell_type": "code",
   "execution_count": null,
   "id": "2909016f-defa-4644-955c-4aaecf90dec6",
   "metadata": {},
   "outputs": [],
   "source": []
  }
 ],
 "metadata": {
  "kernelspec": {
   "display_name": "Python 3 (ipykernel)",
   "language": "python",
   "name": "python3"
  },
  "language_info": {
   "codemirror_mode": {
    "name": "ipython",
    "version": 3
   },
   "file_extension": ".py",
   "mimetype": "text/x-python",
   "name": "python",
   "nbconvert_exporter": "python",
   "pygments_lexer": "ipython3",
   "version": "3.12.7"
  }
 },
 "nbformat": 4,
 "nbformat_minor": 5
}
