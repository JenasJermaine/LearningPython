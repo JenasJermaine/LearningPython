{
 "cells": [
  {
   "cell_type": "code",
   "execution_count": 4,
   "id": "04472905-90e2-4302-ba0b-3accffb0247b",
   "metadata": {},
   "outputs": [],
   "source": [
    "def say_hello():\n",
    "    print(\"hello\")\n",
    "    print(\"how are\")\n",
    "    print(\"you doing?\")"
   ]
  },
  {
   "cell_type": "code",
   "execution_count": 5,
   "id": "6998a36a-6ec9-4177-b2c1-cd15d0e0a82f",
   "metadata": {},
   "outputs": [
    {
     "name": "stdout",
     "output_type": "stream",
     "text": [
      "hello\n",
      "how are\n",
      "you doing?\n"
     ]
    }
   ],
   "source": [
    "say_hello()"
   ]
  },
  {
   "cell_type": "code",
   "execution_count": 10,
   "id": "19d4365d-9492-4aac-85ae-3053f49d55d5",
   "metadata": {},
   "outputs": [],
   "source": [
    "def say_hello(name='sir/madam'):\n",
    "    print(f'Hello {name}')"
   ]
  },
  {
   "cell_type": "code",
   "execution_count": 9,
   "id": "70c45aa5-e580-4098-b620-d69f2d6e1b58",
   "metadata": {},
   "outputs": [
    {
     "name": "stdout",
     "output_type": "stream",
     "text": [
      "Hello Jose\n"
     ]
    }
   ],
   "source": [
    "say_hello('Jose')"
   ]
  },
  {
   "cell_type": "code",
   "execution_count": 11,
   "id": "c95a7c1b-41be-4f5c-8158-9e7c46b1efe7",
   "metadata": {},
   "outputs": [
    {
     "name": "stdout",
     "output_type": "stream",
     "text": [
      "Hello sir/madam\n"
     ]
    }
   ],
   "source": [
    "say_hello()"
   ]
  },
  {
   "cell_type": "code",
   "execution_count": 12,
   "id": "4883d89c-56d1-4a7d-b119-49681f5c1d74",
   "metadata": {},
   "outputs": [],
   "source": [
    "def add_nums(num1,num2):\n",
    "    return num1+num2"
   ]
  },
  {
   "cell_type": "code",
   "execution_count": 14,
   "id": "6c5f4111-6174-4dd3-8a2b-595dc1f5cb02",
   "metadata": {},
   "outputs": [
    {
     "name": "stdout",
     "output_type": "stream",
     "text": [
      "30\n"
     ]
    }
   ],
   "source": [
    "result=add_nums(10,20)\n",
    "print(result)"
   ]
  },
  {
   "cell_type": "code",
   "execution_count": 19,
   "id": "6db578d0-22ac-4ac0-83af-d4f711ce7930",
   "metadata": {},
   "outputs": [],
   "source": [
    "def check_even(num):\n",
    "    return num%2 == 0\n"
   ]
  },
  {
   "cell_type": "code",
   "execution_count": 20,
   "id": "ae6b0062-b770-494e-826c-5ab0c77f4106",
   "metadata": {},
   "outputs": [
    {
     "data": {
      "text/plain": [
       "True"
      ]
     },
     "execution_count": 20,
     "metadata": {},
     "output_type": "execute_result"
    }
   ],
   "source": [
    "check_even(56)"
   ]
  },
  {
   "cell_type": "code",
   "execution_count": 21,
   "id": "363ef013-9cc6-4826-83f5-9b1b1bc9808e",
   "metadata": {},
   "outputs": [
    {
     "data": {
      "text/plain": [
       "False"
      ]
     },
     "execution_count": 21,
     "metadata": {},
     "output_type": "execute_result"
    }
   ],
   "source": [
    "check_even(231)"
   ]
  },
  {
   "cell_type": "code",
   "execution_count": 40,
   "id": "da98d9d2-3371-450e-b8e4-ad37758d3108",
   "metadata": {},
   "outputs": [],
   "source": [
    "def any_even_list(num_list):\n",
    "    for num in num_list:\n",
    "        if num % 2==0:\n",
    "            return True\n",
    "        else:\n",
    "            pass\n",
    "    return False"
   ]
  },
  {
   "cell_type": "code",
   "execution_count": 42,
   "id": "69493db1-df3f-4996-bb6a-e5114a0ccadc",
   "metadata": {},
   "outputs": [
    {
     "data": {
      "text/plain": [
       "True"
      ]
     },
     "execution_count": 42,
     "metadata": {},
     "output_type": "execute_result"
    }
   ],
   "source": [
    "any_even_list([1,5,2])"
   ]
  },
  {
   "cell_type": "code",
   "execution_count": 44,
   "id": "40a66af0-44f6-436e-8ede-266d8d7745dd",
   "metadata": {},
   "outputs": [],
   "source": [
    "def return_even_list(num_list):\n",
    "    evenlist=[]\n",
    "    for num in num_list:\n",
    "        if num % 2==0:\n",
    "            evenlist.append(num)  \n",
    "        else:\n",
    "            pass\n",
    "    return evenlist"
   ]
  },
  {
   "cell_type": "code",
   "execution_count": 45,
   "id": "5040240f-6366-4b6f-85da-1892aecf4b8a",
   "metadata": {},
   "outputs": [
    {
     "data": {
      "text/plain": [
       "[0, 2, 4, 6, 8, 10]"
      ]
     },
     "execution_count": 45,
     "metadata": {},
     "output_type": "execute_result"
    }
   ],
   "source": [
    "return_even_list([num for num in range(11)])"
   ]
  },
  {
   "cell_type": "code",
   "execution_count": 28,
   "id": "d084bf37-28d2-4c81-a65d-bdebef8f7d2a",
   "metadata": {},
   "outputs": [],
   "source": [
    "def check_even_list(list):\n",
    "    for num in list:\n",
    "        if num % 2 == 0:\n",
    "            print(f'{num} is even')\n",
    "        else:\n",
    "            print(f'{num} is odd')"
   ]
  },
  {
   "cell_type": "code",
   "execution_count": 29,
   "id": "bb946848-6e3b-4921-aff2-47a70681d381",
   "metadata": {},
   "outputs": [],
   "source": [
    "mylist =[10,15]"
   ]
  },
  {
   "cell_type": "code",
   "execution_count": 46,
   "id": "0c882d3c-fb00-41ca-b219-3fb5ccc2a888",
   "metadata": {},
   "outputs": [
    {
     "name": "stdout",
     "output_type": "stream",
     "text": [
      "10 is even\n",
      "15 is odd\n"
     ]
    }
   ],
   "source": [
    "check_even_list(mylist)"
   ]
  },
  {
   "cell_type": "code",
   "execution_count": 85,
   "id": "6b93e420-cdf4-4eaa-857d-7244ce5ff7e5",
   "metadata": {},
   "outputs": [],
   "source": [
    "workhours=[('Abby',600),('Billy',400),('Cassie',800),]"
   ]
  },
  {
   "cell_type": "code",
   "execution_count": 91,
   "id": "8c4bc326-85ae-48d1-b481-31c075c18a1d",
   "metadata": {},
   "outputs": [],
   "source": [
    "def employee_month(tuplelist):\n",
    "    most_hours=0\n",
    "    employee_of_month= ''\n",
    "    for employee, hours in tuplelist:\n",
    "        if hours > most_hours:\n",
    "            most_hours=hours\n",
    "            employee_of_month= employee\n",
    "    return (employee_of_month,most_hours)"
   ]
  },
  {
   "cell_type": "code",
   "execution_count": 95,
   "id": "103eb644-9a48-453c-8c72-718503f13dc6",
   "metadata": {},
   "outputs": [
    {
     "name": "stdout",
     "output_type": "stream",
     "text": [
      "Your employee of the mont is Cassie who worked for 800 hours\n"
     ]
    }
   ],
   "source": [
    "#Tuple unpacking with function return\n",
    "name,hours = employee_month(workhours)\n",
    "print(f'Your employee of the mont is {name} who worked for {hours} hours')"
   ]
  },
  {
   "cell_type": "code",
   "execution_count": 79,
   "id": "69da505e-28a8-47e6-9bec-530e0fa6d311",
   "metadata": {},
   "outputs": [],
   "source": [
    "workhours=[('Abby',600),('Billy',400),('Cassie',800), ('James',800)]"
   ]
  },
  {
   "cell_type": "code",
   "execution_count": 83,
   "id": "99031693-03c9-4dbd-8a65-33b60f2753c9",
   "metadata": {},
   "outputs": [],
   "source": [
    "def employees_month(tuplelist):\n",
    "    most_hours=0\n",
    "    employees_most=[]\n",
    "    for employee, hours in tuplelist:\n",
    "        if hours > most_hours:\n",
    "            most_hours=hours\n",
    "    for employee,hours in tuplelist:\n",
    "        if hours== most_hours:\n",
    "            employees_most.append((employee,most_hours))\n",
    "    return employees_most\n",
    "       "
   ]
  },
  {
   "cell_type": "code",
   "execution_count": 84,
   "id": "cd63a25b-f8cc-44e6-9269-0ed4cb87965d",
   "metadata": {},
   "outputs": [
    {
     "data": {
      "text/plain": [
       "[('Cassie', 800), ('James', 800)]"
      ]
     },
     "execution_count": 84,
     "metadata": {},
     "output_type": "execute_result"
    }
   ],
   "source": [
    "employees_month(workhours)"
   ]
  },
  {
   "cell_type": "code",
   "execution_count": 105,
   "id": "f5a0980c-e6d6-4b3e-b9db-25ef66ed0544",
   "metadata": {},
   "outputs": [],
   "source": [
    "from random import shuffle"
   ]
  },
  {
   "cell_type": "code",
   "execution_count": 106,
   "id": "65381f78-b896-4a4d-935e-9bea52173bf5",
   "metadata": {},
   "outputs": [],
   "source": [
    "def shuffle_list(mylist):\n",
    "    shuffle(mylist)\n",
    "    return mylist"
   ]
  },
  {
   "cell_type": "code",
   "execution_count": 165,
   "id": "32844b61-b883-4ce5-b536-3fa41409549a",
   "metadata": {},
   "outputs": [],
   "source": [
    "def player_guess():\n",
    "    guess = ''\n",
    "    while guess not in ['0','1','2']:\n",
    "        guess = input(\"Pick a number 0,1 or 2:\")\n",
    "    return int(guess)"
   ]
  },
  {
   "cell_type": "code",
   "execution_count": 152,
   "id": "c3b71c35-9a04-432b-a1e6-2f4c1ae2d189",
   "metadata": {},
   "outputs": [
    {
     "name": "stdin",
     "output_type": "stream",
     "text": [
      "Pick a number: 0,1 or 2 2\n"
     ]
    },
    {
     "data": {
      "text/plain": [
       "2"
      ]
     },
     "execution_count": 152,
     "metadata": {},
     "output_type": "execute_result"
    }
   ],
   "source": [
    "player_guess()"
   ]
  },
  {
   "cell_type": "code",
   "execution_count": 166,
   "id": "1a57c5a8-f27c-47b3-af3d-b9af3b38b127",
   "metadata": {},
   "outputs": [],
   "source": [
    "def check_guess(shuffledlist,guess):\n",
    "    if mylist[guess]=='O':\n",
    "        print('Correct!')\n",
    "        print(shuffledlist)\n",
    "    else:\n",
    "        print('Wrong guess!')\n",
    "        print(shuffledlist)"
   ]
  },
  {
   "cell_type": "code",
   "execution_count": 167,
   "id": "5a62db12-95fe-4204-bda4-6d881a796b28",
   "metadata": {},
   "outputs": [
    {
     "name": "stdin",
     "output_type": "stream",
     "text": [
      "Pick a number 0,1 or 2: 1\n"
     ]
    },
    {
     "name": "stdout",
     "output_type": "stream",
     "text": [
      "Wrong guess!\n",
      "[' ', ' ', 'O']\n"
     ]
    }
   ],
   "source": [
    "#Initial list\n",
    "mylist=[' ','O',' ']\n",
    "#Shuffle list\n",
    "shuffled_list= shuffle_list(mylist)\n",
    "#User guess\n",
    "guess= player_guess()\n",
    "#Check guess\n",
    "check_guess(shuffled_list,guess)"
   ]
  },
  {
   "cell_type": "code",
   "execution_count": null,
   "id": "66435912-50ca-41bc-8048-6b87a39193a7",
   "metadata": {},
   "outputs": [],
   "source": []
  },
  {
   "cell_type": "code",
   "execution_count": null,
   "id": "94c239f9-2413-4e30-9905-0198d260f4f2",
   "metadata": {},
   "outputs": [],
   "source": []
  }
 ],
 "metadata": {
  "kernelspec": {
   "display_name": "Python 3 (ipykernel)",
   "language": "python",
   "name": "python3"
  },
  "language_info": {
   "codemirror_mode": {
    "name": "ipython",
    "version": 3
   },
   "file_extension": ".py",
   "mimetype": "text/x-python",
   "name": "python",
   "nbconvert_exporter": "python",
   "pygments_lexer": "ipython3",
   "version": "3.12.7"
  }
 },
 "nbformat": 4,
 "nbformat_minor": 5
}
