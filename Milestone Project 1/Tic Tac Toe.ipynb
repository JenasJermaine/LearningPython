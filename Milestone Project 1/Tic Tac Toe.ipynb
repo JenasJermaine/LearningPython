{
 "cells": [
  {
   "cell_type": "code",
   "execution_count": 249,
   "id": "f74c19f9-ecad-4e64-9772-9fbadcf7978e",
   "metadata": {},
   "outputs": [],
   "source": [
    "from IPython.display import clear_output\n",
    "def display_board(board):\n",
    "    clear_output()\n",
    "    print('Here is the current board:')\n",
    "    print('\\t|'+board[0]+'|'+board[1]+'|'+board[2]+'|')\n",
    "    print('\\t|'+board[3]+'|'+board[4]+'|'+board[5]+'|')\n",
    "    print('\\t|'+board[6]+'|'+board[7]+'|'+board[8]+'|')\n",
    "\n"
   ]
  },
  {
   "cell_type": "code",
   "execution_count": 250,
   "id": "106f7640-4160-4bae-980c-d52cf1001ccd",
   "metadata": {},
   "outputs": [
    {
     "name": "stdout",
     "output_type": "stream",
     "text": [
      "Here is the current board:\n",
      "\t|#|X|O|\n",
      "\t|X|O|X|\n",
      "\t|O|X|O|\n"
     ]
    }
   ],
   "source": [
    "test_board = ['#','X','O','X','O','X','O','X','O','X']\n",
    "display_board(test_board)"
   ]
  },
  {
   "cell_type": "code",
   "execution_count": 243,
   "id": "30ff0db5-edfd-4e68-8048-8a69cf2c39fa",
   "metadata": {},
   "outputs": [],
   "source": [
    "def player_input():\n",
    "    marker = ' '\n",
    "    acceptable_input = ['X', 'O']\n",
    "\n",
    "    while marker not in acceptable_input:\n",
    "        marker = input(\"Player 1, choose 'X' or 'O' \").upper()\n",
    "\n",
    "        if marker not in acceptable_input:\n",
    "            print(\"Please pick an appropriate marker\")\n",
    "    player1= marker\n",
    "    if player1=='X':\n",
    "        player2='O'\n",
    "    else:\n",
    "        player2 = 'X'\n",
    "\n",
    "    return(player1,player2)"
   ]
  },
  {
   "cell_type": "code",
   "execution_count": 213,
   "id": "3c6b8cb4-cbf9-425d-8cb5-213e40b79b40",
   "metadata": {},
   "outputs": [
    {
     "name": "stdin",
     "output_type": "stream",
     "text": [
      "Player 1, choose 'X' or 'O'  j\n"
     ]
    },
    {
     "name": "stdout",
     "output_type": "stream",
     "text": [
      "Please pick an appropriate marker\n"
     ]
    },
    {
     "name": "stdin",
     "output_type": "stream",
     "text": [
      "Player 1, choose 'X' or 'O'  O\n"
     ]
    },
    {
     "data": {
      "text/plain": [
       "('O', 'X')"
      ]
     },
     "execution_count": 213,
     "metadata": {},
     "output_type": "execute_result"
    }
   ],
   "source": [
    "player_input()"
   ]
  },
  {
   "cell_type": "code",
   "execution_count": 244,
   "id": "2b2e0000-6498-43de-8dab-08b34b4ea8fc",
   "metadata": {},
   "outputs": [],
   "source": [
    "def place_marker(board, marker, position):\n",
    "    board[position]= marker\n",
    "\n",
    "    return board"
   ]
  },
  {
   "cell_type": "code",
   "execution_count": 245,
   "id": "c63b3b7c-cf91-42a6-873c-c941212182fe",
   "metadata": {},
   "outputs": [
    {
     "name": "stdout",
     "output_type": "stream",
     "text": [
      "Here is the current board:\n",
      "\t|X|X|O|\n",
      "\t|X|O|X|\n",
      "\t|O|X|$|\n"
     ]
    }
   ],
   "source": [
    "\n",
    "place_marker(test_board,'$',8)\n",
    "display_board(test_board)"
   ]
  },
  {
   "cell_type": "code",
   "execution_count": 57,
   "id": "cca90c35-5212-4611-935c-dcb41153ee4d",
   "metadata": {},
   "outputs": [],
   "source": [
    "def win_check(board, mark):\n",
    "    for i in range(0,len(board)-2,3):\n",
    "        if board[i]==board[i+1]==board[i+2]==mark:\n",
    "            return True\n",
    "        else:\n",
    "            pass\n",
    "            \n",
    "    for i in range(0,3):\n",
    "        if board[i]==board[i+3]==board[i+6]==mark:\n",
    "            return True\n",
    "        else:\n",
    "            pass\n",
    "            \n",
    "    if board[0]==board[4]==board[8]==mark or board[2]==board[4]==board[6]==mark:\n",
    "        return True\n",
    "    else:\n",
    "        pass\n",
    "            \n",
    "    return False"
   ]
  },
  {
   "cell_type": "code",
   "execution_count": 58,
   "id": "5e6ebeb5-55af-484e-97d4-1d81fdbba478",
   "metadata": {},
   "outputs": [
    {
     "data": {
      "text/plain": [
       "False"
      ]
     },
     "execution_count": 58,
     "metadata": {},
     "output_type": "execute_result"
    }
   ],
   "source": [
    "win_check(test_board,'X')"
   ]
  },
  {
   "cell_type": "code",
   "execution_count": 275,
   "id": "e30bd3b2-ebed-4168-9e26-9f35ef6e8318",
   "metadata": {},
   "outputs": [],
   "source": [
    "from random import randint\n",
    "def choose_first(name1, name2):\n",
    "    randomnum= randint(1,2)\n",
    "    if randomnum== 1:\n",
    "        turn = name1\n",
    "    else:\n",
    "        turn = name2\n",
    "    return turn"
   ]
  },
  {
   "cell_type": "code",
   "execution_count": 276,
   "id": "cd4c4e4e-b000-4b07-9c29-90e8183baade",
   "metadata": {},
   "outputs": [
    {
     "data": {
      "text/plain": [
       "'Jenas'"
      ]
     },
     "execution_count": 276,
     "metadata": {},
     "output_type": "execute_result"
    }
   ],
   "source": [
    "choose_first('Jenas', 'Jermaine')"
   ]
  },
  {
   "cell_type": "code",
   "execution_count": 226,
   "id": "ee1c011d-9db4-45b7-9912-0a0e0d5d8cf8",
   "metadata": {},
   "outputs": [],
   "source": [
    "def space_check(board, position):\n",
    "    if board[position]==' ':\n",
    "        return True\n",
    "    else:\n",
    "        return False"
   ]
  },
  {
   "cell_type": "code",
   "execution_count": 227,
   "id": "93e873aa-1061-42cd-9e6c-f467f588acb6",
   "metadata": {},
   "outputs": [
    {
     "data": {
      "text/plain": [
       "True"
      ]
     },
     "execution_count": 227,
     "metadata": {},
     "output_type": "execute_result"
    }
   ],
   "source": [
    "test_board = [' ','X','O','X','O','X','O','X','O','X']\n",
    "space_check(test_board,0)"
   ]
  },
  {
   "cell_type": "code",
   "execution_count": 247,
   "id": "45da7c76-4e62-4aad-ae9c-837acf944291",
   "metadata": {},
   "outputs": [],
   "source": [
    "def full_board_check(board):\n",
    "    for i in range(0,9):\n",
    "        if space_check(board, i):\n",
    "            return False\n",
    "    else:\n",
    "        return True"
   ]
  },
  {
   "cell_type": "code",
   "execution_count": 248,
   "id": "3d918808-d4f9-40bc-959e-e5f24ff4c0a5",
   "metadata": {},
   "outputs": [
    {
     "data": {
      "text/plain": [
       "True"
      ]
     },
     "execution_count": 248,
     "metadata": {},
     "output_type": "execute_result"
    }
   ],
   "source": [
    "test_board = ['X','X','O','X','O','X','O','X','O','X']\n",
    "full_board_check(test_board)"
   ]
  },
  {
   "cell_type": "code",
   "execution_count": 263,
   "id": "5af96a85-d670-43de-ba31-4f249fc292d1",
   "metadata": {},
   "outputs": [],
   "source": [
    "def player_choice(board):\n",
    "    position = 9\n",
    "    while position not in range(0,9) or not space_check(board,position):\n",
    "        position = int(input('Choose a position: (0-8)'))\n",
    "    return position"
   ]
  },
  {
   "cell_type": "code",
   "execution_count": 260,
   "id": "0ee953e9-98f8-4ebb-bfe6-80a27c159473",
   "metadata": {},
   "outputs": [],
   "source": [
    "def replay():\n",
    "    \n",
    "    choice= 'Wrong'\n",
    "    acceptable_input = ['Yes', 'No']\n",
    "\n",
    "    while choice not in acceptable_input:\n",
    "        choice = input(\"Do you want to play again: 'Yes' or 'No': \")\n",
    "\n",
    "        if choice not in acceptable_input:\n",
    "            print(\"Please pick 'Yes' or 'No'\")\n",
    "\n",
    "    if choice == 'Yes':\n",
    "        return True\n",
    "    else:\n",
    "        return False\n"
   ]
  },
  {
   "cell_type": "code",
   "execution_count": null,
   "id": "e29259bf-a214-4531-a627-0775341492d9",
   "metadata": {},
   "outputs": [
    {
     "name": "stdout",
     "output_type": "stream",
     "text": [
      "Here is the current board:\n",
      "\t|X|O|X|\n",
      "\t|O|X|O|\n",
      "\t|X| | |\n",
      "Player 1 wins!!\n"
     ]
    },
    {
     "name": "stdin",
     "output_type": "stream",
     "text": [
      "Do you want to play again: 'Yes' or 'No':  7\n"
     ]
    },
    {
     "name": "stdout",
     "output_type": "stream",
     "text": [
      "Please pick 'Yes' or 'No'\n"
     ]
    }
   ],
   "source": [
    "\n",
    "print('Welcome to Tic Tac Toe!')\n",
    "while True:\n",
    "    board = [' ',' ',' ',' ',' ',' ',' ',' ',' ','#']\n",
    "    name1, name2 = input(\"Please enter both of your first names\").split()\n",
    "    turn = choose_first(name1,name2)\n",
    "    print(turn + ' will go first')\n",
    "    \n",
    "    play_game = input('Ready to play? y or n?').lower()\n",
    "    if play_game == 'y':\n",
    "        game_on = True\n",
    "    else:\n",
    "        game_on = False\n",
    "    player1_marker,player2_marker = player_input()\n",
    "    \n",
    "    while game_on:\n",
    "        if turn == name1:\n",
    "            display_board(board)\n",
    "            position = player_choice(board) \n",
    "            place_marker(board, player1_marker, position)\n",
    "            display_board(board)\n",
    "            if win_check(board, player1_marker):\n",
    "                print('Player 1 wins!!')\n",
    "                game_on = False\n",
    "            else:\n",
    "                if full_board_check(board):\n",
    "                    print('Game over draw.')\n",
    "                    game_on= False\n",
    "                else:\n",
    "                    turn = name2\n",
    "        else:\n",
    "            display_board(board)\n",
    "            position = player_choice(board)\n",
    "            place_marker(board, player2_marker, position)\n",
    "            display_board(board)\n",
    "        \n",
    "            if win_check(board, player2_marker):\n",
    "                print('Player 2 wins!!')\n",
    "                game_on= False\n",
    "            else:\n",
    "                if full_board_check(board):\n",
    "                    print('Game over draw.')\n",
    "                    game_on= False\n",
    "                else:\n",
    "                    turn = name1\n",
    "\n",
    "    if not replay():\n",
    "        break"
   ]
  },
  {
   "cell_type": "code",
   "execution_count": 105,
   "id": "b271cb4f-5488-4137-bb3c-c0ca23d52bd8",
   "metadata": {},
   "outputs": [
    {
     "name": "stdin",
     "output_type": "stream",
     "text": [
      "Please pick a marker 'X' or 'O':  X\n"
     ]
    },
    {
     "name": "stdout",
     "output_type": "stream",
     "text": [
      "Player 1: X\n"
     ]
    }
   ],
   "source": [
    "\n",
    "first_player = choose_first()\n",
    "\n",
    "print(f'Player {first_player}: {player_input()}')"
   ]
  },
  {
   "cell_type": "code",
   "execution_count": 233,
   "id": "b68d3746-892d-4af7-b164-430ae3322457",
   "metadata": {},
   "outputs": [
    {
     "name": "stdin",
     "output_type": "stream",
     "text": [
      "Please enter both of your first names Jenas Jermaine\n"
     ]
    },
    {
     "name": "stdout",
     "output_type": "stream",
     "text": [
      "Jenas goes first\n"
     ]
    }
   ],
   "source": [
    "player1_name, player2_name = input(\"Please enter both of your first names\").split()\n",
    "print(f'{choose_first(player1_name, player2_name)} goes first')"
   ]
  },
  {
   "cell_type": "code",
   "execution_count": null,
   "id": "3f68ddf9-7ea1-49c7-8f30-bcf26512faec",
   "metadata": {},
   "outputs": [],
   "source": []
  }
 ],
 "metadata": {
  "kernelspec": {
   "display_name": "Python 3 (ipykernel)",
   "language": "python",
   "name": "python3"
  },
  "language_info": {
   "codemirror_mode": {
    "name": "ipython",
    "version": 3
   },
   "file_extension": ".py",
   "mimetype": "text/x-python",
   "name": "python",
   "nbconvert_exporter": "python",
   "pygments_lexer": "ipython3",
   "version": "3.12.7"
  }
 },
 "nbformat": 4,
 "nbformat_minor": 5
}
