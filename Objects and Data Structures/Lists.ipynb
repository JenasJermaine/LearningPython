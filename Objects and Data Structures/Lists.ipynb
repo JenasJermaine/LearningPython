{
 "cells": [
  {
   "cell_type": "code",
   "execution_count": 1,
   "id": "040b24e4-aae8-400c-b9be-e3adfe443c50",
   "metadata": {},
   "outputs": [
    {
     "name": "stdout",
     "output_type": "stream",
     "text": [
      "3\n"
     ]
    }
   ],
   "source": [
    "my_list =[1,2,3]\n",
    "my_list2 = ['String',100,23.2]\n",
    "print(len(my_list))"
   ]
  },
  {
   "cell_type": "code",
   "execution_count": 2,
   "id": "d27c466f-6ba9-481d-bdbd-1f843db6c0f7",
   "metadata": {},
   "outputs": [
    {
     "name": "stdout",
     "output_type": "stream",
     "text": [
      "1\n",
      "[2, 3]\n",
      "[1, 2, 3, 'String', 100, 23.2]\n"
     ]
    }
   ],
   "source": [
    "print(my_list[0])\n",
    "print(my_list[1:])\n",
    "print(my_list+my_list2)"
   ]
  },
  {
   "cell_type": "code",
   "execution_count": 3,
   "id": "33872fff-4503-4c95-a63a-1e2f524f2b46",
   "metadata": {},
   "outputs": [
    {
     "name": "stdout",
     "output_type": "stream",
     "text": [
      "one hundred\n"
     ]
    }
   ],
   "source": [
    "my_list[1]='one hundred'\n",
    "print(my_list[1])"
   ]
  },
  {
   "cell_type": "code",
   "execution_count": 7,
   "id": "72a0f686-bd94-4f61-867d-f2ae591b933b",
   "metadata": {},
   "outputs": [
    {
     "name": "stdout",
     "output_type": "stream",
     "text": [
      "['String', 100, 23.2, (2+5j), 'ALL CAPS', 2, 3, 5, (2+5j), 2, 3, 5]\n"
     ]
    }
   ],
   "source": [
    "my_list2.append(2+5j)\n",
    "my_list2.insert(4,\"ALL CAPS\")\n",
    "my_list2.extend([2,3,5])\n",
    "print(my_list2)"
   ]
  },
  {
   "cell_type": "code",
   "execution_count": 10,
   "id": "e3ded0fe-7e07-4b4c-8c9e-6678c533420f",
   "metadata": {},
   "outputs": [
    {
     "name": "stdout",
     "output_type": "stream",
     "text": [
      "['String', 100, 23.2, 'ALL CAPS', 2, 3, 5]\n"
     ]
    }
   ],
   "source": [
    "my_list2.remove(2+5j)\n",
    "my_list2.pop()\n",
    "my_list2.pop(-2)\n",
    "print(my_list2)"
   ]
  },
  {
   "cell_type": "code",
   "execution_count": 12,
   "id": "28e9a263-5cc9-4cd6-b945-422e002492c1",
   "metadata": {},
   "outputs": [],
   "source": [
    "unsorted_list=[2,5,1,4,3]\n",
    "unsorted_list.sort()"
   ]
  },
  {
   "cell_type": "code",
   "execution_count": 13,
   "id": "3f09bad9-0bde-4b15-83f8-fa15f353560b",
   "metadata": {},
   "outputs": [
    {
     "name": "stdout",
     "output_type": "stream",
     "text": [
      "[1, 2, 3, 4, 5]\n"
     ]
    }
   ],
   "source": [
    "print(unsorted_list)"
   ]
  },
  {
   "cell_type": "code",
   "execution_count": null,
   "id": "4c5e9135-73a9-412d-b1e9-c023a4450d87",
   "metadata": {},
   "outputs": [],
   "source": []
  }
 ],
 "metadata": {
  "kernelspec": {
   "display_name": "Python 3 (ipykernel)",
   "language": "python",
   "name": "python3"
  },
  "language_info": {
   "codemirror_mode": {
    "name": "ipython",
    "version": 3
   },
   "file_extension": ".py",
   "mimetype": "text/x-python",
   "name": "python",
   "nbconvert_exporter": "python",
   "pygments_lexer": "ipython3",
   "version": "3.12.7"
  }
 },
 "nbformat": 4,
 "nbformat_minor": 5
}
