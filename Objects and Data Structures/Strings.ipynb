{
 "cells": [
  {
   "cell_type": "code",
   "execution_count": 1,
   "id": "04699168-9543-493a-8bd7-d3add3a28ee0",
   "metadata": {},
   "outputs": [
    {
     "name": "stdout",
     "output_type": "stream",
     "text": [
      "The boy said,\"I don't do that\"\n"
     ]
    }
   ],
   "source": [
    "print('The boy said,\"I don\\'t do that\"')"
   ]
  },
  {
   "cell_type": "code",
   "execution_count": 1,
   "id": "c23f3f31-6609-4fd2-bef0-cd9c64b2d10f",
   "metadata": {},
   "outputs": [
    {
     "data": {
      "text/plain": [
       "5"
      ]
     },
     "execution_count": 1,
     "metadata": {},
     "output_type": "execute_result"
    }
   ],
   "source": [
    "len(\"Hello\")"
   ]
  },
  {
   "cell_type": "code",
   "execution_count": 2,
   "id": "baf3840e-349c-44d4-aef7-375f48e2a86f",
   "metadata": {},
   "outputs": [],
   "source": [
    "myString= \"Hello World\""
   ]
  },
  {
   "cell_type": "code",
   "execution_count": 6,
   "id": "aa0e453b-e35f-418b-9025-21b8c02ce9c6",
   "metadata": {},
   "outputs": [
    {
     "name": "stdout",
     "output_type": "stream",
     "text": [
      "H\n"
     ]
    }
   ],
   "source": [
    "print(myString[0])"
   ]
  },
  {
   "cell_type": "code",
   "execution_count": 7,
   "id": "d4541501-e9fe-4590-8bfa-1e0360bd51eb",
   "metadata": {},
   "outputs": [
    {
     "name": "stdout",
     "output_type": "stream",
     "text": [
      "l\n"
     ]
    }
   ],
   "source": [
    "print(myString[-2])"
   ]
  },
  {
   "cell_type": "code",
   "execution_count": 8,
   "id": "435cf935-340e-4ac3-9044-9b006fbaca64",
   "metadata": {},
   "outputs": [
    {
     "name": "stdout",
     "output_type": "stream",
     "text": [
      "cdefghijk\n",
      "abc\n",
      "def\n",
      "def\n",
      "kigeca\n"
     ]
    }
   ],
   "source": [
    "myString= \"abcdefghijk\"\n",
    "print(myString[2:])\n",
    "print(myString[:3])\n",
    "print(myString[3:6])\n",
    "print(myString[3:6])\n",
    "print(myString[::-2])"
   ]
  },
  {
   "cell_type": "code",
   "execution_count": 9,
   "id": "c8349ef2-02c1-4a8b-8c64-9be14197fb6a",
   "metadata": {},
   "outputs": [
    {
     "name": "stdout",
     "output_type": "stream",
     "text": [
      "Sam\n",
      "Pam\n",
      "Ham\n"
     ]
    }
   ],
   "source": [
    "name= \"Sam\"\n",
    "print(name)\n",
    "name=\"Pam\"\n",
    "print(name)\n",
    "name= 'H'+ name[1:]\n",
    "print(name)"
   ]
  },
  {
   "cell_type": "code",
   "execution_count": 10,
   "id": "f2eeec32-0a34-45c2-9725-5f5ba94a7449",
   "metadata": {},
   "outputs": [],
   "source": [
    "x=\"Hello World\""
   ]
  },
  {
   "cell_type": "code",
   "execution_count": 12,
   "id": "1979b619-b56b-4d4d-9dec-3aaf58ae0015",
   "metadata": {},
   "outputs": [
    {
     "data": {
      "text/plain": [
       "'HELLO WORLD'"
      ]
     },
     "execution_count": 12,
     "metadata": {},
     "output_type": "execute_result"
    }
   ],
   "source": [
    "x.upper()"
   ]
  },
  {
   "cell_type": "code",
   "execution_count": 13,
   "id": "66a04be2-efb3-425e-babb-3b82831841e1",
   "metadata": {},
   "outputs": [
    {
     "data": {
      "text/plain": [
       "'hello world'"
      ]
     },
     "execution_count": 13,
     "metadata": {},
     "output_type": "execute_result"
    }
   ],
   "source": [
    "x.lower()"
   ]
  },
  {
   "cell_type": "code",
   "execution_count": 14,
   "id": "96888555-28d4-4dcc-972d-c923b4555e6a",
   "metadata": {},
   "outputs": [
    {
     "name": "stdout",
     "output_type": "stream",
     "text": [
      "This is a string INSERTED\n"
     ]
    }
   ],
   "source": [
    "print(\"This is a string {}\".format(\"INSERTED\"))"
   ]
  },
  {
   "cell_type": "code",
   "execution_count": 15,
   "id": "7ff7302b-1852-48cb-9b88-bef0f372b598",
   "metadata": {},
   "outputs": [
    {
     "name": "stdout",
     "output_type": "stream",
     "text": [
      "The quick brown fox\n"
     ]
    }
   ],
   "source": [
    "print('The {2} {1} {0}'.format(\"fox\",\"brown\",\"quick\"))"
   ]
  },
  {
   "cell_type": "code",
   "execution_count": 16,
   "id": "55aa00e2-3962-4ad2-8001-0469493d8493",
   "metadata": {},
   "outputs": [
    {
     "name": "stdout",
     "output_type": "stream",
     "text": [
      "The quick brown fox\n"
     ]
    }
   ],
   "source": [
    "print('The {pace} {colour} {animal}'.format(animal=\"fox\",colour=\"brown\",pace=\"quick\"))"
   ]
  },
  {
   "cell_type": "code",
   "execution_count": 21,
   "id": "1fdb58df-af44-4b14-8b6d-ba43ce3d27e7",
   "metadata": {},
   "outputs": [
    {
     "name": "stdout",
     "output_type": "stream",
     "text": [
      "The result was 0.12870013\n"
     ]
    }
   ],
   "source": [
    "result=100/777\n",
    "print(\"The result was {r:8.2f}\".format(r=result))"
   ]
  },
  {
   "cell_type": "code",
   "execution_count": 22,
   "id": "b37589c8-c6f1-46f1-8a59-9031ea5c1d67",
   "metadata": {},
   "outputs": [
    {
     "name": "stdout",
     "output_type": "stream",
     "text": [
      "His name is Jose\n"
     ]
    }
   ],
   "source": [
    "name=\"Jose\"\n",
    "print(f\"His name is {name}\")"
   ]
  },
  {
   "cell_type": "code",
   "execution_count": null,
   "id": "3809d797-85fd-4ea2-8575-a0366c6e6521",
   "metadata": {},
   "outputs": [],
   "source": []
  }
 ],
 "metadata": {
  "kernelspec": {
   "display_name": "Python 3 (ipykernel)",
   "language": "python",
   "name": "python3"
  },
  "language_info": {
   "codemirror_mode": {
    "name": "ipython",
    "version": 3
   },
   "file_extension": ".py",
   "mimetype": "text/x-python",
   "name": "python",
   "nbconvert_exporter": "python",
   "pygments_lexer": "ipython3",
   "version": "3.12.7"
  }
 },
 "nbformat": 4,
 "nbformat_minor": 5
}
