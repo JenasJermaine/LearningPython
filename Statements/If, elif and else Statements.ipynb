{
 "cells": [
  {
   "cell_type": "code",
   "execution_count": 3,
   "id": "371e705f-3d21-41dc-8684-144744b9f62b",
   "metadata": {},
   "outputs": [
    {
     "name": "stdout",
     "output_type": "stream",
     "text": [
      "It's True!\n"
     ]
    }
   ],
   "source": [
    "if True:\n",
    "    print(\"It's True!\")\n"
   ]
  },
  {
   "cell_type": "code",
   "execution_count": 4,
   "id": "f809796a-7dfe-4f76-b932-d3e84e7ec31a",
   "metadata": {},
   "outputs": [
    {
     "name": "stdout",
     "output_type": "stream",
     "text": [
      "It's True!\n"
     ]
    }
   ],
   "source": [
    "if 3>2:\n",
    "    print(\"It's True!\")"
   ]
  },
  {
   "cell_type": "code",
   "execution_count": 5,
   "id": "424ffd83-34dc-400b-ab3d-249492877267",
   "metadata": {},
   "outputs": [
    {
     "name": "stdout",
     "output_type": "stream",
     "text": [
      "feed me\n"
     ]
    }
   ],
   "source": [
    "hungry = True\n",
    "if hungry:\n",
    "    print(\"feed me\")\n"
   ]
  },
  {
   "cell_type": "code",
   "execution_count": 6,
   "id": "b4a1fb02-618d-4a57-bd9c-a31f8d5c8c21",
   "metadata": {},
   "outputs": [],
   "source": [
    "hungry = False\n",
    "if hungry:\n",
    "    print(\"feed me\")"
   ]
  },
  {
   "cell_type": "code",
   "execution_count": 7,
   "id": "38300645-e65f-4155-8d9f-99f0ae8d5e87",
   "metadata": {},
   "outputs": [
    {
     "name": "stdout",
     "output_type": "stream",
     "text": [
      "I'm not hungry\n"
     ]
    }
   ],
   "source": [
    "hungry = False\n",
    "if hungry:\n",
    "    print(\"feed me\")\n",
    "else:\n",
    "    print(\"I'm not hungry\")"
   ]
  },
  {
   "cell_type": "code",
   "execution_count": 11,
   "id": "e580a44f-77f7-448e-85e7-63ad2c173bed",
   "metadata": {},
   "outputs": [
    {
     "name": "stdout",
     "output_type": "stream",
     "text": [
      "Money  is cool!\n"
     ]
    }
   ],
   "source": [
    "loc = 'Bank'\n",
    "\n",
    "if loc == 'Auto Shop':\n",
    "    print('Cars are cool!')\n",
    "elif loc == 'Bank':\n",
    "    print('Money  is cool!')\n",
    "else:\n",
    "    print(\"I don't know much\")"
   ]
  },
  {
   "cell_type": "code",
   "execution_count": 12,
   "id": "27da4b2e-85e4-4841-ae9a-c996e005cc82",
   "metadata": {},
   "outputs": [
    {
     "name": "stdout",
     "output_type": "stream",
     "text": [
      "I don't know much\n"
     ]
    }
   ],
   "source": [
    "loc = 'Game'\n",
    "\n",
    "if loc == 'Auto Shop':\n",
    "    print('Cars are cool!')\n",
    "elif loc == 'Bank':\n",
    "    print('Money  is cool!')\n",
    "else:\n",
    "    print(\"I don't know much\")"
   ]
  },
  {
   "cell_type": "code",
   "execution_count": 13,
   "id": "c1569b14-c074-43d9-8817-a562d749ad4b",
   "metadata": {},
   "outputs": [
    {
     "name": "stdout",
     "output_type": "stream",
     "text": [
      "Hello Sammy\n"
     ]
    }
   ],
   "source": [
    "name = 'Sammy'\n",
    "\n",
    "if name == 'Frankie':\n",
    "    print(\"Hello Frankie\")\n",
    "elif name == 'Sammy':\n",
    "    print('Hello Sammy')\n",
    "else:\n",
    "    print(\"What is your name?\")"
   ]
  },
  {
   "cell_type": "code",
   "execution_count": 14,
   "id": "7f169ee0-b73a-47ef-afe4-e289493a8fe5",
   "metadata": {},
   "outputs": [
    {
     "name": "stdout",
     "output_type": "stream",
     "text": [
      "Hello Frankie\n"
     ]
    }
   ],
   "source": [
    "name = 'Frankie'\n",
    "\n",
    "if name == 'Frankie':\n",
    "    print(\"Hello Frankie\")\n",
    "elif name == 'Sammy':\n",
    "    print('Hello Sammy')\n",
    "else:\n",
    "    print(\"What is your name?\")"
   ]
  },
  {
   "cell_type": "code",
   "execution_count": 15,
   "id": "9dda536e-50b5-421d-ba86-d27cada7e8fd",
   "metadata": {},
   "outputs": [
    {
     "name": "stdout",
     "output_type": "stream",
     "text": [
      "What is your name?\n"
     ]
    }
   ],
   "source": [
    "name = 'Jose'\n",
    "\n",
    "if name == 'Frankie':\n",
    "    print(\"Hello Frankie\")\n",
    "elif name == 'Sammy':\n",
    "    print('Hello Sammy')\n",
    "else:\n",
    "    print(\"What is your name?\")"
   ]
  },
  {
   "cell_type": "code",
   "execution_count": null,
   "id": "b9c7a9ad-1dad-4500-99dc-2daa37791391",
   "metadata": {},
   "outputs": [],
   "source": []
  }
 ],
 "metadata": {
  "kernelspec": {
   "display_name": "Python 3 (ipykernel)",
   "language": "python",
   "name": "python3"
  },
  "language_info": {
   "codemirror_mode": {
    "name": "ipython",
    "version": 3
   },
   "file_extension": ".py",
   "mimetype": "text/x-python",
   "name": "python",
   "nbconvert_exporter": "python",
   "pygments_lexer": "ipython3",
   "version": "3.12.7"
  }
 },
 "nbformat": 4,
 "nbformat_minor": 5
}
