{
 "cells": [
  {
   "cell_type": "code",
   "execution_count": 1,
   "id": "4757cd12-27f0-4c37-afbd-fb61bd49e5f1",
   "metadata": {},
   "outputs": [
    {
     "name": "stdout",
     "output_type": "stream",
     "text": [
      "set()\n",
      "{'o', 'e', 'k', 'G', 'r', 'F', 's'}\n",
      "{'For', 'Geeks'}\n",
      "{'for', 'Geeks'}\n",
      "{'for', 'Geeks'}\n"
     ]
    }
   ],
   "source": [
    "set1 = set()\n",
    "print(set1)\n",
    "\n",
    "set1 = set(\"GeeksForGeeks\")\n",
    "print(set1)\n",
    "\n",
    "# Creating a Set with the use of a List\n",
    "set1 = set([\"Geeks\", \"For\", \"Geeks\"])\n",
    "print(set1)\n",
    "\n",
    "# Creating a Set with the use of a tuple\n",
    "tup = (\"Geeks\", \"for\", \"Geeks\")\n",
    "print(set(tup))\n",
    "\n",
    "# Creating a Set with the use of a dictionary\n",
    "d = {\"Geeks\": 1, \"for\": 2, \"Geeks\": 3}\n",
    "print(set(d))"
   ]
  },
  {
   "cell_type": "code",
   "execution_count": 1,
   "id": "fca34b21-2e32-4dc4-aad6-2fc205614cf4",
   "metadata": {},
   "outputs": [],
   "source": [
    "myset=set()"
   ]
  },
  {
   "cell_type": "code",
   "execution_count": 2,
   "id": "de6c9713-3593-4eeb-895e-f043d302fcd6",
   "metadata": {},
   "outputs": [],
   "source": [
    "myset.add(1)"
   ]
  },
  {
   "cell_type": "code",
   "execution_count": 3,
   "id": "df909c06-e838-42d6-a4e5-a2317636d990",
   "metadata": {},
   "outputs": [
    {
     "data": {
      "text/plain": [
       "{1}"
      ]
     },
     "execution_count": 3,
     "metadata": {},
     "output_type": "execute_result"
    }
   ],
   "source": [
    "myset"
   ]
  },
  {
   "cell_type": "code",
   "execution_count": 4,
   "id": "a7608037-a1bf-463f-88b5-8717e38362a3",
   "metadata": {},
   "outputs": [],
   "source": [
    "myset.update([2,3,4])"
   ]
  },
  {
   "cell_type": "code",
   "execution_count": 5,
   "id": "55bd86d4-778f-4c43-ac61-4bb845ad8b43",
   "metadata": {},
   "outputs": [
    {
     "data": {
      "text/plain": [
       "{1, 2, 3, 4}"
      ]
     },
     "execution_count": 5,
     "metadata": {},
     "output_type": "execute_result"
    }
   ],
   "source": [
    "myset"
   ]
  },
  {
   "cell_type": "code",
   "execution_count": 6,
   "id": "22eb206b-857f-43b5-85a8-a21079176411",
   "metadata": {},
   "outputs": [],
   "source": [
    "myset.remove(3)"
   ]
  },
  {
   "cell_type": "code",
   "execution_count": 7,
   "id": "62fa8b42-7dc8-4f19-927a-b38148a4c1ab",
   "metadata": {},
   "outputs": [
    {
     "data": {
      "text/plain": [
       "{1, 2, 4}"
      ]
     },
     "execution_count": 7,
     "metadata": {},
     "output_type": "execute_result"
    }
   ],
   "source": [
    "myset"
   ]
  },
  {
   "cell_type": "code",
   "execution_count": 8,
   "id": "9bea9326-f21a-4f3e-81f7-eecbe66a1b81",
   "metadata": {},
   "outputs": [],
   "source": [
    "myset.discard(4)"
   ]
  },
  {
   "cell_type": "code",
   "execution_count": 9,
   "id": "862e1539-6f1d-4608-8646-2f1c194b66b1",
   "metadata": {},
   "outputs": [
    {
     "data": {
      "text/plain": [
       "{1, 2}"
      ]
     },
     "execution_count": 9,
     "metadata": {},
     "output_type": "execute_result"
    }
   ],
   "source": [
    "myset"
   ]
  },
  {
   "cell_type": "code",
   "execution_count": 10,
   "id": "e900c427-6a3b-4d18-8c73-77675aef078b",
   "metadata": {},
   "outputs": [],
   "source": [
    "val=myset.pop()"
   ]
  },
  {
   "cell_type": "code",
   "execution_count": 11,
   "id": "fa028b76-c990-427f-bf7b-c6759631e1b0",
   "metadata": {},
   "outputs": [
    {
     "data": {
      "text/plain": [
       "{2}"
      ]
     },
     "execution_count": 11,
     "metadata": {},
     "output_type": "execute_result"
    }
   ],
   "source": [
    "myset"
   ]
  },
  {
   "cell_type": "code",
   "execution_count": null,
   "id": "c8281289-6520-4dda-9d4b-0598d23151ce",
   "metadata": {},
   "outputs": [],
   "source": []
  }
 ],
 "metadata": {
  "kernelspec": {
   "display_name": "Python 3 (ipykernel)",
   "language": "python",
   "name": "python3"
  },
  "language_info": {
   "codemirror_mode": {
    "name": "ipython",
    "version": 3
   },
   "file_extension": ".py",
   "mimetype": "text/x-python",
   "name": "python",
   "nbconvert_exporter": "python",
   "pygments_lexer": "ipython3",
   "version": "3.12.7"
  }
 },
 "nbformat": 4,
 "nbformat_minor": 5
}
